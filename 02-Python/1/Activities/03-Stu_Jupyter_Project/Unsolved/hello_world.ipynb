{
 "cells": [
  {
   "cell_type": "code",
   "execution_count": 1,
   "id": "5bf3da87",
   "metadata": {
    "tags": []
   },
   "outputs": [
    {
     "name": "stdout",
     "output_type": "stream",
     "text": [
      "hello world!\n"
     ]
    }
   ],
   "source": [
    "# print a statement: 'Hello World!'\n",
    "print('hello world!')\n"
   ]
  },
  {
   "cell_type": "code",
   "execution_count": 2,
   "id": "39e94afa",
   "metadata": {
    "tags": []
   },
   "outputs": [
    {
     "name": "stdout",
     "output_type": "stream",
     "text": [
      "HELLO BITCHESSSSSSS!\n"
     ]
    }
   ],
   "source": [
    "# print a statement: 'Hello World from a new cell'\n",
    "print('HELLO BITCHESSSSSSS!')"
   ]
  },
  {
   "cell_type": "code",
   "execution_count": null,
   "id": "a5b34005-09ec-4193-9592-df44d8f60476",
   "metadata": {},
   "outputs": [],
   "source": [
    "title = \"Frankfurter\"\n",
    "years = 23\n",
    "hourly_wage = 65.40\n",
    "expert_status = True\n"
   ]
  }
 ],
 "metadata": {
  "kernelspec": {
   "display_name": "Python 3 (ipykernel)",
   "language": "python",
   "name": "python3"
  },
  "language_info": {
   "codemirror_mode": {
    "name": "ipython",
    "version": 3
   },
   "file_extension": ".py",
   "mimetype": "text/x-python",
   "name": "python",
   "nbconvert_exporter": "python",
   "pygments_lexer": "ipython3",
   "version": "3.11.4"
  }
 },
 "nbformat": 4,
 "nbformat_minor": 5
}
